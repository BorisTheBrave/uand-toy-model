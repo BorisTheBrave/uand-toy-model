{
 "cells": [
  {
   "cell_type": "code",
   "execution_count": 55,
   "metadata": {},
   "outputs": [],
   "source": [
    "import torch\n",
    "import jaxtyping\n",
    "import tqdm\n",
    "import matplotlib.pyplot as plt\n",
    "import numpy as np\n",
    "\n",
    "\n",
    "device = torch.device(\"cuda\" if torch.cuda.is_available()\n",
    "                    #   else \"mps\" if torch.backends.mps.is_available()\n",
    "                      else \"cpu\")\n",
    "\n",
    "# Number of features (aka d0 as we're not doing superposition input)\n",
    "m = 100\n",
    "\n",
    "# Feature sparsity\n",
    "k = 3\n",
    "\n",
    "# Hidden dims\n",
    "d = 1000\n",
    "\n",
    "# Relative importance of non-zero outputs\n",
    "alpha = 1\n",
    "\n",
    "\n",
    "class MyModel(torch.nn.Module):\n",
    "    def __init__(self):\n",
    "        super().__init__()\n",
    "        self.linear = torch.nn.Linear(m, d)\n",
    "        self.relu = torch.nn.ReLU()\n",
    "        # self.relu = torch.nn.LeakyReLU(0.1)\n",
    "        self.linear2 = torch.nn.Linear(d, m**2)\n",
    "        \n",
    "    def forward(self, x):\n",
    "        x = self.linear(x)\n",
    "        x = self.relu(x)\n",
    "        x = self.linear2(x)\n",
    "        return x"
   ]
  },
  {
   "cell_type": "code",
   "execution_count": 56,
   "metadata": {},
   "outputs": [],
   "source": [
    "def random_sparse_inputs(batch_size):\n",
    "    x = torch.zeros(batch_size, m, device=device)\n",
    "\n",
    "    # For each item in batch, randomly select k indices to set to 1\n",
    "    # for i in range(batch_size):\n",
    "    #     # Get k random indices between 0 and m-1\n",
    "    #     indices = torch.randperm(m)[:k]\n",
    "    #     x[i, indices] = 1\n",
    "\n",
    "    indices = torch.multinomial(torch.ones(batch_size, m, device=device), k, replacement=False)\n",
    "    x.scatter_(1, indices, 1)\n",
    "    return x\n",
    "\n",
    "def compute_expected(inputs):\n",
    "    batch_size = inputs.shape[0]\n",
    "    y = torch.zeros(batch_size, m, m, device=device)\n",
    "    y = inputs[:, None, :] * inputs[:, :, None]\n",
    "    y[:, range(m), range(m)] = 0\n",
    "    y = y.view(batch_size, m**2)\n",
    "    return y\n",
    "\n",
    "\n"
   ]
  },
  {
   "cell_type": "code",
   "execution_count": 57,
   "metadata": {},
   "outputs": [
    {
     "data": {
      "text/plain": [
       "MyModel(\n",
       "  (linear): Linear(in_features=100, out_features=1000, bias=True)\n",
       "  (relu): LeakyReLU(negative_slope=0.1)\n",
       "  (linear2): Linear(in_features=1000, out_features=10000, bias=True)\n",
       ")"
      ]
     },
     "execution_count": 57,
     "metadata": {},
     "output_type": "execute_result"
    }
   ],
   "source": [
    "model = MyModel()\n",
    "model.to(device)"
   ]
  },
  {
   "cell_type": "code",
   "execution_count": 58,
   "metadata": {},
   "outputs": [
    {
     "data": {
      "text/plain": [
       "device(type='cuda')"
      ]
     },
     "execution_count": 58,
     "metadata": {},
     "output_type": "execute_result"
    }
   ],
   "source": [
    "device"
   ]
  },
  {
   "cell_type": "code",
   "execution_count": 59,
   "metadata": {},
   "outputs": [
    {
     "name": "stderr",
     "output_type": "stream",
     "text": [
      "Epoch [228/300], Loss: 0.000535:  76%|███████▌  | 228/300 [00:47<00:15,  4.77it/s]"
     ]
    }
   ],
   "source": [
    "optimizer = torch.optim.Adam(model.parameters(), lr=0.001)\n",
    "criterion = torch.nn.MSELoss()\n",
    "\n",
    "\n",
    "# Training parameters\n",
    "n_epochs = 300\n",
    "batch_size = 10000\n",
    "\n",
    "# Training loop\n",
    "progress_bar = tqdm.tqdm(range(n_epochs))\n",
    "for epoch in progress_bar:\n",
    "    # Generate random batch of sparse inputs\n",
    "    inputs = random_sparse_inputs(batch_size)\n",
    "    \n",
    "    # Compute expected outputs\n",
    "    targets = compute_expected(inputs)\n",
    "    \n",
    "    # Zero gradients\n",
    "    optimizer.zero_grad()\n",
    "    \n",
    "    # Forward pass\n",
    "    outputs = model(inputs)\n",
    "    \n",
    "    # Compute loss\n",
    "    loss = criterion(outputs, targets)\n",
    "    \n",
    "    # Backward pass and optimize\n",
    "    loss.backward()\n",
    "    optimizer.step()\n",
    "    \n",
    "    progress_bar.set_description(f'Epoch [{epoch+1}/{n_epochs}], Loss: {loss.item():.6f}')\n"
   ]
  },
  {
   "cell_type": "code",
   "execution_count": 110,
   "metadata": {},
   "outputs": [],
   "source": [
    "# Construct model\n",
    "import math\n",
    "def construct_model(p=None):\n",
    "    p = math.log(m)**2/math.sqrt(d) if p is None else p\n",
    "    # expected_intersection = p*p*d\n",
    "    # expected_false_positives = (k-1)*p\n",
    "    # print(f\"{p=}\")\n",
    "    # print(f\"{expected_intersection=} {expected_false_positives=}\")\n",
    "    model = MyModel()\n",
    "    model.linear.weight.data = (torch.rand(d, m, device=device) < p).float()\n",
    "    model.linear.bias.data = -torch.ones(d, device=device)\n",
    "    model.linear2.bias.data = torch.zeros(m**2, device=device)\n",
    "    weights2 = torch.zeros(m, m, d, device=device)\n",
    "    l = model.linear.weight.data\n",
    "    for i in range(m):\n",
    "        for j in range(m):\n",
    "            if i == j:\n",
    "                continue\n",
    "            # find intersecting set\n",
    "            s = l[:, i] * l[:, j]\n",
    "            ssum = s.sum()\n",
    "            weights2[i, j, :] =  s / ssum if ssum > 0 else torch.zeros_like(s)\n",
    "    model.linear2.weight.data = weights2.reshape(m**2, d)\n",
    "    return model\n",
    "# model = construct_model(0.1)\n"
   ]
  },
  {
   "cell_type": "code",
   "execution_count": 111,
   "metadata": {},
   "outputs": [
    {
     "name": "stdout",
     "output_type": "stream",
     "text": [
      "\n",
      "Test Loss: 0.000604\n",
      "tensor([[ 0.0104,  0.0321,  0.0370,  0.0069,  0.0218,  0.0105],\n",
      "        [ 0.0345, -0.0049,  0.0315,  0.0161,  0.0107,  0.0204],\n",
      "        [ 0.0388,  0.0248, -0.0078,  0.0148,  0.0126,  0.0180],\n",
      "        [ 0.0151,  0.0158,  0.0173,  0.0014,  0.0058,  0.0002],\n",
      "        [ 0.0132,  0.0072,  0.0075,  0.0048,  0.0013, -0.0010],\n",
      "        [ 0.0089,  0.0187,  0.0035,  0.0135, -0.0030, -0.0067]])\n"
     ]
    },
    {
     "data": {
      "image/png": "[encoded data removed]",
      "text/plain": [
       "<Figure size 1000x1000 with 2 Axes>"
      ]
     },
     "metadata": {},
     "output_type": "display_data"
    }
   ],
   "source": [
    "\n",
    "# Test the model\n",
    "def test_model(model):\n",
    "    with torch.no_grad():\n",
    "        test_inputs = random_sparse_inputs(1000)\n",
    "        test_outputs = model(test_inputs)\n",
    "        expected_outputs = compute_expected(test_inputs)\n",
    "        test_loss = criterion(test_outputs, expected_outputs)\n",
    "        return test_loss\n",
    "    \n",
    "# Compute the loss\n",
    "test_loss = test_model(model)\n",
    "print(f'\\nTest Loss: {test_loss.item():.6f}')\n",
    "\n",
    "def plot_output(model):\n",
    "# See the output for a particular input\n",
    "    with torch.no_grad():\n",
    "        test_input = torch.zeros(1, m, device=device)\n",
    "        test_input[0, 0:k] = 1\n",
    "        test_output = model(test_input)\n",
    "    k2 = k * 2\n",
    "    test_output_mini = test_output[0].reshape(m, m)[:k2, :k2]\n",
    "    print(test_output_mini)\n",
    "    # Visualize the test output as a heatmap, with values normalized between 0 and 1\n",
    "    plt.figure(figsize=(10, 10))\n",
    "    plt.imshow(test_output_mini.cpu().numpy(), cmap='viridis')\n",
    "    plt.clim(0, 1)\n",
    "    plt.colorbar()\n",
    "    plt.title(f'Model Output for Input with First {k} Elements = 1')\n",
    "    plt.xlabel('Column Index')\n",
    "    plt.ylabel('Row Index')\n",
    "    plt.show()\n",
    "\n",
    "plot_output(model)"
   ]
  },
  {
   "cell_type": "code",
   "execution_count": 112,
   "metadata": {},
   "outputs": [
    {
     "name": "stderr",
     "output_type": "stream",
     "text": [
      "100%|██████████| 20/20 [00:04<00:00,  4.95it/s]\n"
     ]
    },
    {
     "data": {
      "image/png": "[encoded data removed]",
      "text/plain": [
       "<Figure size 640x480 with 1 Axes>"
      ]
     },
     "metadata": {},
     "output_type": "display_data"
    }
   ],
   "source": [
    "# Loss from a model that just outputs 0\n",
    "baseline = k*(k-1)/m/m\n",
    "# Loss from a model that can solve an arbitrary 2m of the m*m outputs\n",
    "best_linear=(k*(k-1))/m/m * (m*m - 2*m)/m/m\n",
    "\n",
    "\n",
    "x = []\n",
    "y = []\n",
    "for p in tqdm.tqdm(torch.arange(0, 0.2, 0.01)):\n",
    "    model = construct_model(p)\n",
    "    test_loss = test_model(model)\n",
    "    # print(f\"{p=} {test_loss=}\")\n",
    "    x.append(p)\n",
    "    y.append(test_loss)\n",
    "plt.plot(x, y, label='Constructed')\n",
    "plt.axhline(baseline, color='red', label='Baseline')\n",
    "plt.axhline(best_linear, color='blue', label='Best linear')\n",
    "plt.legend()\n",
    "plt.show()\n"
   ]
  },
  {
   "cell_type": "code",
   "execution_count": 113,
   "metadata": {},
   "outputs": [
    {
     "name": "stdout",
     "output_type": "stream",
     "text": [
      "0.0006\n"
     ]
    }
   ],
   "source": [
    "print(baseline)"
   ]
  }
 ],
 "metadata": {
  "kernelspec": {
   "display_name": ".venv",
   "language": "python",
   "name": "python3"
  },
  "language_info": {
   "codemirror_mode": {
    "name": "ipython",
    "version": 3
   },
   "file_extension": ".py",
   "mimetype": "text/x-python",
   "name": "python",
   "nbconvert_exporter": "python",
   "pygments_lexer": "ipython3",
   "version": "3.11.0"
  }
 },
 "nbformat": 4,
 "nbformat_minor": 2
}
